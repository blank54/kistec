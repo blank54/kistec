{
 "cells": [
  {
   "cell_type": "code",
   "execution_count": 4,
   "metadata": {},
   "outputs": [],
   "source": [
    "from gensim.models.word2vec import Word2Vec"
   ]
  },
  {
   "cell_type": "code",
   "execution_count": 1,
   "metadata": {},
   "outputs": [],
   "source": [
    "docs = [\"내구성 조사는 내구성조사로 시공 미흡도 바꾼다\", \n",
    "        \"시공 미흡은 어떻게 바뀔까?\", \n",
    "        \"재료는 재료 분리이다\",\n",
    "        \"임의의 텍스트\"]\n",
    "docs_for_w2v = [doc.split(\" \") for doc in docs]\n",
    "\n",
    "window = 3 # 좌우로 이 숫자만큼 떨어진 단어까지 고려함\n",
    "min_count = 1 # 이 숫자보다 적게 등장하는 단어는 무시함\n",
    "vector_size = 50 # 보통 50, 100, 200 사용\n",
    "iteration = 100 # 보통 50, 100, 500 사용"
   ]
  },
  {
   "cell_type": "code",
   "execution_count": 2,
   "metadata": {},
   "outputs": [
    {
     "data": {
      "text/plain": [
       "[['내구성', '조사는', '내구성조사로', '시공', '미흡도', '바꾼다'],\n",
       " ['시공', '미흡은', '어떻게', '바뀔까?'],\n",
       " ['재료는', '재료가', '분리이다'],\n",
       " ['임의의', '텍스트']]"
      ]
     },
     "execution_count": 2,
     "metadata": {},
     "output_type": "execute_result"
    }
   ],
   "source": [
    "docs_for_w2v # 리스트의 리스트"
   ]
  },
  {
   "cell_type": "code",
   "execution_count": 6,
   "metadata": {},
   "outputs": [],
   "source": [
    "model = Word2Vec(docs_for_w2v,\n",
    "                 window=window,\n",
    "                 min_count=min_count,\n",
    "                 size = vector_size,\n",
    "                 iter = iteration)"
   ]
  },
  {
   "cell_type": "code",
   "execution_count": 13,
   "metadata": {},
   "outputs": [
    {
     "data": {
      "text/plain": [
       "array([-0.00733544, -0.00850302, -0.00054686, -0.00638802,  0.00823801,\n",
       "        0.00873251, -0.00898528, -0.00615795,  0.00162155,  0.00139895,\n",
       "       -0.00445712, -0.00456329, -0.00589268, -0.00454771,  0.00942136,\n",
       "        0.00615163,  0.00209664, -0.00526371, -0.00563661, -0.00683214,\n",
       "       -0.00552369, -0.00628466, -0.000552  , -0.00751691,  0.00053027,\n",
       "        0.00328743, -0.00353198, -0.00761112, -0.00981642, -0.00956246,\n",
       "       -0.00352369, -0.00948752, -0.00874768,  0.00714649, -0.00501256,\n",
       "        0.00657395,  0.00698477, -0.00453584, -0.00013744,  0.00215525,\n",
       "        0.00529754, -0.00524255,  0.00024466, -0.00193693, -0.00804118,\n",
       "        0.00923999,  0.00768157,  0.00881707, -0.00279966, -0.00087816],\n",
       "      dtype=float32)"
      ]
     },
     "execution_count": 13,
     "metadata": {},
     "output_type": "execute_result"
    }
   ],
   "source": [
    "model.wv.get_vector(\"재료는\") # w2v 돌리기 전에 토큰화 해주는게 좋음"
   ]
  },
  {
   "cell_type": "code",
   "execution_count": 18,
   "metadata": {},
   "outputs": [
    {
     "data": {
      "text/plain": [
       "[('재료는', 0.19699472188949585),\n",
       " ('미흡도', 0.16499866545200348),\n",
       " ('내구성', 0.08883009850978851),\n",
       " ('내구성조사로', 0.0018209703266620636),\n",
       " ('어떻게', -0.01290619745850563),\n",
       " ('조사는', -0.03457687422633171),\n",
       " ('텍스트', -0.054247040301561356),\n",
       " ('바꾼다', -0.0546967014670372),\n",
       " ('분리이다', -0.14479845762252808),\n",
       " ('임의의', -0.16176630556583405),\n",
       " ('재료', -0.16297191381454468),\n",
       " ('바뀔까?', -0.16430754959583282),\n",
       " ('미흡은', -0.1774071305990219)]"
      ]
     },
     "execution_count": 18,
     "metadata": {},
     "output_type": "execute_result"
    }
   ],
   "source": [
    "model.wv.most_similar(\"시공\", topn=15) # 가장 유사한 상위 n개 단어 출력 (코사인 유사도)"
   ]
  }
 ],
 "metadata": {
  "kernelspec": {
   "display_name": "Python 3",
   "language": "python",
   "name": "python3"
  },
  "language_info": {
   "codemirror_mode": {
    "name": "ipython",
    "version": 3
   },
   "file_extension": ".py",
   "mimetype": "text/x-python",
   "name": "python",
   "nbconvert_exporter": "python",
   "pygments_lexer": "ipython3",
   "version": "3.7.3"
  }
 },
 "nbformat": 4,
 "nbformat_minor": 2
}
